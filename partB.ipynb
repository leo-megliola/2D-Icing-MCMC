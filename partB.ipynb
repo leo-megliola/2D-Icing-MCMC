{
 "cells": [
  {
   "cell_type": "code",
   "execution_count": null,
   "metadata": {},
   "outputs": [],
   "source": [
    "import numpy as np\n",
    "import matplotlib.pyplot as plt\n",
    "import matplotlib.animation as animation\n",
    "from tqdm.notebook import tqdm\n",
    "import yaml\n",
    "\n",
    "from utils import *"
   ]
  },
  {
   "cell_type": "markdown",
   "metadata": {},
   "source": [
    "**Problem B : Plot 1D scans of the magnetization M versus T for fixed B at three different values: B < 0,\n",
    "B = 0, and B > 0. Plot 1D scans of the magnetization M versus B for fixed T at three different values:\n",
    "T < TC, T = TC, and T > TC, where TC = 2 / ln(1+√2) ≈ 2.269.**"
   ]
  },
  {
   "cell_type": "code",
   "execution_count": null,
   "metadata": {},
   "outputs": [],
   "source": [
    "B_lim = 1\n",
    "T_offset = 1\n",
    "TC = 2 / np.log(1+np.sqrt(2))\n",
    "B_values_fixed = np.array([-B_lim,0,B_lim])\n",
    "B_values = np.linspace(-B_lim,B_lim,16)\n",
    "T_values_fixed = np.array([TC-T_offset,TC,TC+T_offset])\n",
    "T_values = np.linspace(1,4,16)"
   ]
  },
  {
   "cell_type": "code",
   "execution_count": null,
   "metadata": {},
   "outputs": [],
   "source": [
    "#M vs T for fixed B\n",
    "#ill try to make it mesh grid later\n",
    "\n",
    "for B in B_values_fixed:\n",
    "    results = np.array([stats(temp=temp, steps=STEPS, burn_in=BURNIN,B=B) for temp in T_values])\n",
    "    plt.errorbar(T_values, results.T[0], yerr=results.T[1],label= \"B = \" + str(B))\n",
    "    plt.plot()\n",
    "\n",
    "plt.title('net magnitization v. tempature')\n",
    "plt.xlabel('tempature')\n",
    "plt.ylabel('net magnitization') \n",
    "plt.vlines([2.269], ymin=-0.2, ymax=1.0, color='red')\n",
    "plt.legend()\n",
    "plt.show()"
   ]
  },
  {
   "cell_type": "code",
   "execution_count": null,
   "metadata": {},
   "outputs": [],
   "source": [
    "#M vs B for fixed T\n",
    "\n",
    "for T in T_values_fixed:\n",
    "    results = np.array([stats(temp=T, steps=STEPS, burn_in=BURNIN,B=B) for B in B_values])\n",
    "    plt.errorbar(B_values, results.B[0], yerr=results.B[1],label= \"T = \" + str(T))\n",
    "    plt.plot()\n",
    "\n",
    "plt.title('net magnitization v. tempature')\n",
    "plt.xlabel('tempature')\n",
    "plt.ylabel('net magnitization') \n",
    "plt.vlines([2.269], ymin=-0.2, ymax=1.0, color='red')\n",
    "plt.legend()\n",
    "plt.show()"
   ]
  }
 ],
 "metadata": {
  "kernelspec": {
   "display_name": "Python 3",
   "language": "python",
   "name": "python3"
  },
  "language_info": {
   "codemirror_mode": {
    "name": "ipython",
    "version": 3
   },
   "file_extension": ".py",
   "mimetype": "text/x-python",
   "name": "python",
   "nbconvert_exporter": "python",
   "pygments_lexer": "ipython3",
   "version": "3.9.6"
  }
 },
 "nbformat": 4,
 "nbformat_minor": 2
}
