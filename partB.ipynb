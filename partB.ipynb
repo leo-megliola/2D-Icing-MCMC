{
 "cells": [
  {
   "cell_type": "code",
   "execution_count": null,
   "metadata": {},
   "outputs": [],
   "source": [
    "import numpy as np\n",
    "import matplotlib.pyplot as plt\n",
    "import matplotlib.animation as animation\n",
    "from tqdm.notebook import tqdm\n",
    "import yaml\n",
    "\n",
    "from utils import *"
   ]
  },
  {
   "cell_type": "markdown",
   "metadata": {},
   "source": [
    "**Problem B : Plot 1D scans of the magnetization M versus T for fixed B at three different values: B < 0,\n",
    "B = 0, and B > 0. Plot 1D scans of the magnetization M versus B for fixed T at three different values:\n",
    "T < TC, T = TC, and T > TC, where TC = 2\n",
    "ln(1+√2) ≈ 2.269.**"
   ]
  }
 ],
 "metadata": {
  "language_info": {
   "name": "python"
  }
 },
 "nbformat": 4,
 "nbformat_minor": 2
}
