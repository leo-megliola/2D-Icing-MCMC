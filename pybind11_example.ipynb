{
 "cells": [
  {
   "cell_type": "code",
   "execution_count": 1,
   "metadata": {},
   "outputs": [
    {
     "name": "stdout",
     "output_type": "stream",
     "text": [
      "[[1 1 1]\n",
      " [1 1 1]]\n",
      "\n",
      "Hello from C++\n",
      "\n",
      "Array shape: 2 x 3 \n",
      "\n",
      "[[42 42 42]\n",
      " [42 42 42]]\n"
     ]
    }
   ],
   "source": [
    "import numpy as np\n",
    "import test_module\n",
    "\n",
    "a = np.ones((2,3), dtype=np.int32)\n",
    "print(a)\n",
    "test_module.test(a)\n",
    "print(a)"
   ]
  },
  {
   "cell_type": "code",
   "execution_count": 2,
   "metadata": {},
   "outputs": [
    {
     "name": "stdout",
     "output_type": "stream",
     "text": [
      "[[1 1 1 1 1]\n",
      " [1 1 1 1 1]\n",
      " [1 1 1 1 1]\n",
      " [1 1 1 1 1]\n",
      " [1 1 1 1 1]]\n",
      "\n",
      "Hello from random C++\n",
      "\n",
      "Generating random values for array shape: 5 x 5 \n",
      "\n",
      "[[3 3 5 4 0]\n",
      " [5 4 0 5 5]\n",
      " [1 0 5 1 0]\n",
      " [5 3 4 2 5]\n",
      " [5 3 1 4 2]]\n"
     ]
    }
   ],
   "source": [
    "a = np.ones((5,5), dtype=np.int32)\n",
    "print(a)\n",
    "test_module.random_test(a)\n",
    "print(a)"
   ]
  },
  {
   "cell_type": "code",
   "execution_count": 3,
   "metadata": {},
   "outputs": [
    {
     "name": "stdout",
     "output_type": "stream",
     "text": [
      "[[1 1 1]\n",
      " [1 1 1]]\n",
      "\n",
      "Hello from C++\n",
      "\n",
      "Array shape: 2 x 3 \n",
      "\n",
      "[[50 50 50]\n",
      " [50 50 50]]\n"
     ]
    }
   ],
   "source": [
    "import numpy as np\n",
    "import spins_module\n",
    "\n",
    "a = np.ones((2,3), dtype=np.int32)\n",
    "print(a)\n",
    "spins_module.test(a)\n",
    "print(a)"
   ]
  },
  {
   "cell_type": "code",
   "execution_count": null,
   "metadata": {},
   "outputs": [],
   "source": []
  }
 ],
 "metadata": {
  "kernelspec": {
   "display_name": "Python 3",
   "language": "python",
   "name": "python3"
  },
  "language_info": {
   "codemirror_mode": {
    "name": "ipython",
    "version": 3
   },
   "file_extension": ".py",
   "mimetype": "text/x-python",
   "name": "python",
   "nbconvert_exporter": "python",
   "pygments_lexer": "ipython3",
   "version": "3.9.6"
  }
 },
 "nbformat": 4,
 "nbformat_minor": 2
}
