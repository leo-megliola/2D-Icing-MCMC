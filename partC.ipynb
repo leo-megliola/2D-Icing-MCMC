{
 "cells": [
  {
   "cell_type": "code",
   "execution_count": null,
   "metadata": {},
   "outputs": [],
   "source": [
    "import numpy as np\n",
    "import matplotlib.pyplot as plt\n",
    "import matplotlib.animation as animation\n",
    "from tqdm.notebook import tqdm\n",
    "import yaml\n",
    "\n",
    "from utils import *"
   ]
  },
  {
   "cell_type": "markdown",
   "metadata": {},
   "source": [
    "**Problem C: Putting this all together, draw/describe the phase diagram in B versus T of the 2D Ising model,\n",
    "where the magnetization M is the order parameter. Consider discussing first-order phase transitions and\n",
    "critical exponents, hysteresis and metastable states, and/or specific heat and susceptibility. See Refs. [3, 4]\n",
    "for relevant discussions.**"
   ]
  }
 ],
 "metadata": {
  "language_info": {
   "name": "python"
  }
 },
 "nbformat": 4,
 "nbformat_minor": 2
}
