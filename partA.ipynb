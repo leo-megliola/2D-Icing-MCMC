{
 "cells": [
  {
   "cell_type": "code",
   "execution_count": null,
   "metadata": {},
   "outputs": [],
   "source": [
    "import numpy as np\n",
    "import matplotlib.pyplot as plt\n",
    "import matplotlib.animation as animation\n",
    "from tqdm.notebook import tqdm\n",
    "import yaml\n",
    "\n",
    "from utils import *"
   ]
  },
  {
   "cell_type": "markdown",
   "metadata": {},
   "source": [
    "**Problem A: Use Markov chain Monte Carlo and the Metropolis-Hastings algorithm to simulate the 2D Ising\n",
    "model at different temperatures T and magnetic field strengths B. Discuss your strategy for determining\n",
    "the initial configuration, burn-in steps, total number of steps, and thinning (if any)**"
   ]
  },
  {
   "cell_type": "code",
   "execution_count": null,
   "metadata": {},
   "outputs": [],
   "source": [
    "#getting the parameters from the yaml file\n",
    "with open(\"config.yaml\", 'r') as stream:\n",
    "    try:\n",
    "        config = yaml.safe_load(stream)\n",
    "    except yaml.YAMLError as exc:\n",
    "        print(exc)\n",
    "print(config)\n",
    "STEPS = config['STEPS']\n",
    "N = config['N']\n",
    "J = config['J']\n",
    "KB = config['KB']\n",
    "T = config['T']\n",
    "BURNIN = config['BURNIN']\n",
    "B= config['B']"
   ]
  },
  {
   "cell_type": "code",
   "execution_count": null,
   "metadata": {},
   "outputs": [],
   "source": [
    "#2d ising model:\n",
    "m_valuesUP, lattice_spins, steps = spins(steps=STEPS, random=False, B=B)\n",
    "plot_lattice(lattice_spins)\n",
    "plot_m(m_valuesUP, burn_in = BURNIN)"
   ]
  },
  {
   "cell_type": "code",
   "execution_count": null,
   "metadata": {},
   "outputs": [],
   "source": [
    "temps = np.linspace(1,4,10)\n",
    "print(temps)\n",
    "magnetic_field = np.linspace(0,1,3)\n",
    "print(magnetic_field)"
   ]
  },
  {
   "cell_type": "code",
   "execution_count": null,
   "metadata": {},
   "outputs": [],
   "source": [
    "results = np.array([[stats(temp, STEPS, BURNIN, B, display=False) for B in magnetic_field] for temp in temps])\n"
   ]
  },
  {
   "cell_type": "code",
   "execution_count": null,
   "metadata": {},
   "outputs": [],
   "source": [
    "print(results[0,0,:])\n",
    "print(results[0,1,:])\n",
    "print(results[1,0,:])\n",
    "print(results[2,0,:])"
   ]
  },
  {
   "cell_type": "code",
   "execution_count": null,
   "metadata": {},
   "outputs": [],
   "source": [
    "print(\"results.shape\", results.shape)\n",
    "axes_shape = (1, len(magnetic_field))\n",
    "fig, ax = plt.subplots(axes_shape[0], axes_shape[1])\n",
    "print(ax)\n",
    "for i in range(len(magnetic_field)):\n",
    "    curr_plot = results[:,i,0]\n",
    "    std = results[:,i,1]\n",
    "    ax[i].plot(temps, curr_plot, label=f\"B={magnetic_field[i]}\")\n",
    "    ax[i].fill_between(temps, curr_plot-std, curr_plot+std, alpha=0.3)\n",
    "    ax[i].set_xlabel(\"Temperature\")\n",
    "plt.show()\n"
   ]
  },
  {
   "cell_type": "code",
   "execution_count": null,
   "metadata": {},
   "outputs": [],
   "source": [
    "plt.errorbar(temps, results.T[0], yerr=results.T[1])\n",
    "plt.vlines([2.269], ymin=-0.2, ymax=1.0, color='red')\n",
    "plt.title('net magnitization v. temperature')\n",
    "plt.xlabel('temperature')\n",
    "plt.ylabel('net magnitization') \n",
    "plt.plot()"
   ]
  }
 ],
 "metadata": {
  "kernelspec": {
   "display_name": "Python 3",
   "language": "python",
   "name": "python3"
  },
  "language_info": {
   "codemirror_mode": {
    "name": "ipython",
    "version": 3
   },
   "file_extension": ".py",
   "mimetype": "text/x-python",
   "name": "python",
   "nbconvert_exporter": "python",
   "pygments_lexer": "ipython3",
   "version": "3.8.15"
  }
 },
 "nbformat": 4,
 "nbformat_minor": 2
}
