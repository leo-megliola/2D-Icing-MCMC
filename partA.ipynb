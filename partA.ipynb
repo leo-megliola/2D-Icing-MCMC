{
 "cells": [
  {
   "cell_type": "code",
   "execution_count": null,
   "metadata": {},
   "outputs": [],
   "source": [
    "import numpy as np\n",
    "import matplotlib.pyplot as plt\n",
    "import matplotlib.animation as animation\n",
    "from tqdm.notebook import tqdm\n",
    "import yaml\n",
    "\n",
    "from utils import *"
   ]
  },
  {
   "cell_type": "markdown",
   "metadata": {},
   "source": [
    "**Problem A: Use Markov chain Monte Carlo and the Metropolis-Hastings algorithm to simulate the 2D Ising\n",
    "model at different temperatures T and magnetic field strengths B. Discuss your strategy for determining\n",
    "the initial configuration, burn-in steps, total number of steps, and thinning (if any)**"
   ]
  },
  {
   "cell_type": "code",
   "execution_count": null,
   "metadata": {},
   "outputs": [],
   "source": [
    "#getting the parameters from the yaml file\n",
    "with open(\"config.yaml\", 'r') as stream:\n",
    "    try:\n",
    "        config = yaml.safe_load(stream)\n",
    "    except yaml.YAMLError as exc:\n",
    "        print(exc)\n",
    "print(config)\n",
    "STEPS = config['STEPS']\n",
    "N = config['N']\n",
    "J = config['J']\n",
    "KB = config['KB']\n",
    "T = config['T']\n",
    "BURNIN = config['BURNIN']"
   ]
  },
  {
   "cell_type": "code",
   "execution_count": null,
   "metadata": {},
   "outputs": [],
   "source": [
    "#2d ising model:\n",
    "m_valuesUP, lattice_spins, steps = spins(steps=STEPS, random=False)\n",
    "plot_lattice(lattice_spins)\n",
    "plot_m(m_valuesUP, burn_in = BURNIN)"
   ]
  },
  {
   "cell_type": "code",
   "execution_count": null,
   "metadata": {},
   "outputs": [],
   "source": [
    "temps = np.linspace(1,4,16)\n",
    "temps"
   ]
  },
  {
   "cell_type": "code",
   "execution_count": null,
   "metadata": {},
   "outputs": [],
   "source": [
    "# the initial condition of all spins up is computationally more efficint because it does not need to burn in\n",
    "results = np.array([stats(temp, STEPS, BURNIN) for temp in temps])"
   ]
  },
  {
   "cell_type": "code",
   "execution_count": null,
   "metadata": {},
   "outputs": [],
   "source": [
    "plt.errorbar(temps, results.T[0], yerr=results.T[1])\n",
    "plt.vlines([2.269], ymin=-0.2, ymax=1.0, color='red')\n",
    "plt.title('net magnitization v. tempature')\n",
    "plt.xlabel('tempature')\n",
    "plt.ylabel('net magnitization') \n",
    "plt.plot()"
   ]
  }
 ],
 "metadata": {
  "kernelspec": {
   "display_name": "Python 3",
   "language": "python",
   "name": "python3"
  },
  "language_info": {
   "codemirror_mode": {
    "name": "ipython",
    "version": 3
   },
   "file_extension": ".py",
   "mimetype": "text/x-python",
   "name": "python",
   "nbconvert_exporter": "python",
   "pygments_lexer": "ipython3",
   "version": "3.9.6"
  }
 },
 "nbformat": 4,
 "nbformat_minor": 2
}
